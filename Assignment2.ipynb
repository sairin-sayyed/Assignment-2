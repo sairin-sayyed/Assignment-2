{
  "nbformat": 4,
  "nbformat_minor": 0,
  "metadata": {
    "colab": {
      "name": "Assignment2.ipynb",
      "provenance": [],
      "collapsed_sections": []
    },
    "kernelspec": {
      "name": "python3",
      "display_name": "Python 3"
    }
  },
  "cells": [
    {
      "cell_type": "markdown",
      "metadata": {
        "id": "zb3wiH9V7J-h"
      },
      "source": [
        "**ASSIGNMENT 2**"
      ]
    },
    {
      "cell_type": "markdown",
      "metadata": {
        "id": "jQ042ZCqak4T"
      },
      "source": [
        "QUESTION 1\n",
        "\n",
        "\n",
        "Create an empty list. Accept 10 numbers from the user and append to it the list if it is an even number."
      ]
    },
    {
      "cell_type": "code",
      "metadata": {
        "id": "en0MPO4ZarPR",
        "outputId": "f1e11d7e-b472-49be-dd07-895c79244879",
        "colab": {
          "base_uri": "https://localhost:8080/"
        }
      },
      "source": [
        "l=(17,20,19,63,45,83,94,78,34,0)\n",
        "for i in l:\n",
        "  if i%2==0:\n",
        "    print(i,end=\" \")\n",
        "\n",
        "\n"
      ],
      "execution_count": null,
      "outputs": [
        {
          "output_type": "stream",
          "text": [
            "20 94 78 34 0 "
          ],
          "name": "stdout"
        }
      ]
    },
    {
      "cell_type": "markdown",
      "metadata": {
        "id": "WXQ9CiHcfMof"
      },
      "source": [
        "QUESTION 2\n",
        "\n",
        "Create a notebook on LIST COMPREHENSION. This exercise is to put you in a Self learning mode"
      ]
    },
    {
      "cell_type": "code",
      "metadata": {
        "id": "qDp-4blVfTva",
        "outputId": "11f669ae-dd46-499d-afbd-a160d0f0c910",
        "colab": {
          "base_uri": "https://localhost:8080/"
        }
      },
      "source": [
        "l=[1,2,3,4,34,56,7.3,8,\"hello\",6.3,\"lets learn\"]\n",
        "for i in l:\n",
        "  print (i, end=\" \\n\")\n",
        "print (type(i))"
      ],
      "execution_count": null,
      "outputs": [
        {
          "output_type": "stream",
          "text": [
            "1 \n",
            "2 \n",
            "3 \n",
            "4 \n",
            "34 \n",
            "56 \n",
            "7.3 \n",
            "8 \n",
            "hello \n",
            "6.3 \n",
            "lets learn \n",
            "<class 'str'>\n"
          ],
          "name": "stdout"
        }
      ]
    },
    {
      "cell_type": "code",
      "metadata": {
        "id": "S-lsRMIdkG46",
        "outputId": "f1d93a5d-0c89-4cc9-ce0a-2840493525e6",
        "colab": {
          "base_uri": "https://localhost:8080/"
        }
      },
      "source": [
        "for i in l:\n",
        "  print (i * 2,end =\" \\n\")\n",
        "l.append(\"letsupgarde\")\n",
        "print(l)"
      ],
      "execution_count": null,
      "outputs": [
        {
          "output_type": "stream",
          "text": [
            "4.6 \n",
            "14 \n",
            "16690 \n",
            "130 \n",
            "684 \n",
            "131536 \n",
            "46.9 \n",
            "letsupgardeletsupgarde \n",
            "letsupgardeletsupgarde \n",
            "letsupgardeletsupgarde \n",
            "[2.3, 7, 8345, 65, 342, 65768, 23.45, 'letsupgarde', 'letsupgarde', 'letsupgarde', 'letsupgarde']\n"
          ],
          "name": "stdout"
        }
      ]
    },
    {
      "cell_type": "code",
      "metadata": {
        "id": "udj1jHaZk5VJ",
        "outputId": "5eeb7b56-0564-409a-9d4a-fbcc3217bd5c",
        "colab": {
          "base_uri": "https://localhost:8080/"
        }
      },
      "source": [
        "list1= [2.3,46,7,8345,65,342,65768,23.45]\n",
        "l = list(list1)\n",
        "print (l)\n",
        "print (l[2])\n",
        "print(l[2:8])\n",
        "print (l[1]==l[-2])\n",
        "print (l[:8])\n",
        "l.remove(46)\n",
        "print(l)"
      ],
      "execution_count": null,
      "outputs": [
        {
          "output_type": "stream",
          "text": [
            "[2.3, 46, 7, 8345, 65, 342, 65768, 23.45]\n",
            "7\n",
            "[7, 8345, 65, 342, 65768, 23.45]\n",
            "False\n",
            "[2.3, 46, 7, 8345, 65, 342, 65768, 23.45]\n",
            "[2.3, 7, 8345, 65, 342, 65768, 23.45]\n"
          ],
          "name": "stdout"
        }
      ]
    },
    {
      "cell_type": "markdown",
      "metadata": {
        "id": "_J9sXbMDfU3E"
      },
      "source": [
        "QUESTION 3\n",
        "\n",
        "You have seen in the videos how powerful dictionary data structure is.\n",
        "In this assignment, given a number n, you have to write a program that generates a dictionary d which\n",
        "contains (i, i*i), where i is from 1 to n (both included).\n",
        "Then you have to just print this dictionary d."
      ]
    },
    {
      "cell_type": "code",
      "metadata": {
        "id": "Ud0B6vXeckAc",
        "outputId": "8f6a4eb6-58bb-481e-d754-cda1a8f06db7",
        "colab": {
          "base_uri": "https://localhost:8080/"
        }
      },
      "source": [
        "n=int (input(\"enter a number\"))\n",
        "dic = dict ()\n",
        "\n",
        "\n",
        "for i in range(1,n+1):\n",
        "  dic[i]= i*i\n",
        "\n",
        "\n",
        "print(d)"
      ],
      "execution_count": null,
      "outputs": [
        {
          "output_type": "stream",
          "text": [
            "enter a number10\n",
            "{1: 1, 2: 4, 3: 9, 4: 16, 5: 25, 6: 36, 7: 49, 8: 64, 9: 81, 10: 100}\n"
          ],
          "name": "stdout"
        }
      ]
    },
    {
      "cell_type": "markdown",
      "metadata": {
        "id": "TR2GwTmTfer7"
      },
      "source": [
        "QUESTION 4\n",
        "\n",
        "There is a robot which wants to go the charging point to charge itself.\n",
        "The robot moves in a 2-D plane from the original point (0,0). The robot can\n",
        "move toward UP, DOWN, LEFT and RIGHT with given steps.\n",
        "The trace of robot movement is shown as the following:\n",
        "UP 5\n",
        "DOWN 3\n",
        "LEFT 3\n",
        "RIGHT 2\n",
        "Then, the output of the program should be:\n",
        "2\n",
        "The numbers after the direction are steps.\n",
        "Write a program to compute the distance between the current position after\n",
        "a sequence of movement and original point. If the distance is a float, then\n",
        "just print the nearest integer (use round() function for that and then convert\n",
        "it into an integer).\n",
        "Input Format:\n",
        "The first line of the input contains a number n which implies the number of\n",
        "directions to be given.\n",
        "The next n lines contain the direction and the step separated by a space.\n",
        "Output Format:\n",
        "Print the distance from the original position to the current position."
      ]
    },
    {
      "cell_type": "code",
      "metadata": {
        "id": "qNTXqm7sfuy-",
        "outputId": "2db31f37-d9e5-41f5-b676-51ab41b92529",
        "colab": {
          "base_uri": "https://localhost:8080/"
        }
      },
      "source": [
        " a = 3\n",
        "if a==3:\n",
        "  print (\"left\")\n",
        "elif a==5:\n",
        "  print(\"up\")\n",
        "elif a==1:\n",
        "  print(\"down\")\n",
        "elif a==2:\n",
        "  print(\"right\")\n",
        "else :\n",
        "  print(\"none\")"
      ],
      "execution_count": 6,
      "outputs": [
        {
          "output_type": "stream",
          "text": [
            "left\n"
          ],
          "name": "stdout"
        }
      ]
    }
  ]
}